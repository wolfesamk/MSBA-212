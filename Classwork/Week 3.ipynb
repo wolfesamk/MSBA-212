{
 "cells": [
  {
   "cell_type": "code",
   "execution_count": 6,
   "metadata": {},
   "outputs": [],
   "source": [
    "import requests\n",
    "import io\n",
    "import pandas as pd"
   ]
  },
  {
   "cell_type": "code",
   "execution_count": 7,
   "metadata": {},
   "outputs": [],
   "source": [
    "def readFile(url):\n",
    "    download = requests.get(url).content\n",
    "    # Reading the downloaded content and turning it into a pandas dataframe\n",
    "    df = pd.read_csv(io.StringIO(download.decode('utf-8')))\n",
    "    return df"
   ]
  },
  {
   "cell_type": "code",
   "execution_count": 10,
   "metadata": {},
   "outputs": [
    {
     "name": "stdout",
     "output_type": "stream",
     "text": [
      " San Francisco 49ers Wallpaper San Francisco 49ers Wallpaper San Francisco 49ers Glory Years Former San Francisco 49ers Great & Hall of Fame QB; Joe Montana Nick Bosa of the San Francisco 49ers stands on the field during their... nan 49ers players react to Christian McCaffrey's dominant performance vs. Rams San Francisco 49ers 49ers TE George Kittle felt \"great\" after big performance No Huddle Podcast: Milestone episode previews 49ers-Vikings playoff game Olivia Culpo wears black for boyfriend Christian McCafferty 49ers win San Francisco 49ers Frappuccino San Francisco 49ers Joe Montana. Probablemente el mas grande y exitoso mariscal de todas las epocas San Francisco 49ers cheerleader SI's 100 Best Super Bowl Photos San Francisco 49ers Glory Years covers | SI.com Nick Bosa of the San Francisco 49ers reacts after a fumble during the... #LL @lufelive  #football #NFL Joe Montana, San Francisco 49ers Patrick Willis, San Francisco 49ers 2023 San Francisco 49ers wallpaper – Pro Sports Backgrounds San Francisco To-Do List\n"
     ]
    }
   ],
   "source": [
    "\n",
    "\n",
    "#I am creating a dictionary here titled inputdata\n",
    "inputdata={}\n",
    "#I am assigning the content of the csv file to my dictionary\n",
    "#header is my row in the csv file that is why header is 0 below\n",
    "inputdata = readFile(\"https://raw.githubusercontent.com/wolfesamk/MSBA-212/main/Files/example2results.csv\").to_dict()\n",
    "\n",
    "#We can use type to check the data type of a variable\n",
    "#print(type(inputdata))\n",
    "\n",
    "#I am using the column headers from the csv file to find the data I am interested to analyze\n",
    "\n",
    "# I created a new dictionary here for the description column in my csv file\n",
    "descriptiondictionary = inputdata.get('description')\n",
    "#print(type(descriptiondictionary))\n",
    "\n",
    "# I am converting the dictionary to a list so I can analyze the data\n",
    "descriptionlist =  list(descriptiondictionary.values())\n",
    "#print(type(descriptionlist))\n",
    "\n",
    "#convert list to string\n",
    "#I need the data in string format for analysis purposes\n",
    "descriptioninstring = ''\n",
    "for eachletter in  descriptionlist:\n",
    "    descriptioninstring += ' '+ str(eachletter)\n",
    "\n",
    "print(descriptioninstring)\n",
    "#print(type(descriptioninstring))\n"
   ]
  },
  {
   "cell_type": "code",
   "execution_count": null,
   "metadata": {},
   "outputs": [],
   "source": [
    "import example5\n",
    "import re\n",
    "import nltk\n",
    "from nltk.corpus import stopwords\n",
    "from nltk.tokenize import word_tokenize\n",
    "from nltk.util import ngrams\n",
    "from collections import Counter\n",
    "\n",
    "#Access to the string from the previous file and make the string lower case\n",
    "lowercasedescriptions=example5.descriptioninstring.lower()\n",
    "#print(lowercasedescriptions)\n",
    "\n",
    "#remove the url from text to prevent a future error\n",
    "lowercasedescriptions= re.sub(r'\\w+:\\/{2}[\\d\\w-]+(\\.[\\d\\w-]+)*(?:(?:\\/[^\\s/]*))*', '', lowercasedescriptions)\n",
    "#print(lowercasedescriptions)\n",
    "\n",
    "#remove the stop or common words from the string\n",
    "nltk.download('stopwords')\n",
    "#print(stopwords.words('english'))\n",
    "\n",
    "description_tokens = word_tokenize(lowercasedescriptions)\n",
    "\n",
    "description_tokens_without_stopwords = [word for word in description_tokens if not word in stopwords.words()]\n",
    "\n",
    "#print(description_tokens_without_stopwords )\n",
    "\n",
    "unigrams = ngrams(description_tokens_without_stopwords, 1)\n",
    "bigrams = ngrams(description_tokens_without_stopwords,2)\n",
    "trigrams = ngrams(description_tokens_without_stopwords,3)\n",
    "\n",
    "#print (Counter(unigrams))\n",
    "#print (Counter(bigrams))\n",
    "#print (Counter(trigrams))\n",
    "\n",
    "mostcommonunigrams = Counter(unigrams)\n",
    "#This will print top 3 unigrams\n",
    "print(mostcommonunigrams.most_common(3))\n",
    "\n",
    "mostcommonbigrams = Counter(bigrams)\n",
    "print(mostcommonbigrams.most_common(3))\n",
    "\n",
    "mostcommontrigrams = Counter(trigrams)\n",
    "print(mostcommontrigrams.most_common(3))\n"
   ]
  }
 ],
 "metadata": {
  "kernelspec": {
   "display_name": "Python 3",
   "language": "python",
   "name": "python3"
  },
  "language_info": {
   "codemirror_mode": {
    "name": "ipython",
    "version": 3
   },
   "file_extension": ".py",
   "mimetype": "text/x-python",
   "name": "python",
   "nbconvert_exporter": "python",
   "pygments_lexer": "ipython3",
   "version": "3.11.4"
  },
  "orig_nbformat": 4
 },
 "nbformat": 4,
 "nbformat_minor": 2
}
