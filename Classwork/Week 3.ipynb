{
 "cells": [
  {
   "cell_type": "code",
   "execution_count": 19,
   "metadata": {},
   "outputs": [],
   "source": [
    "import requests\n",
    "import io\n",
    "import pandas as pd\n",
    "import re\n",
    "import nltk\n",
    "from nltk.corpus import stopwords\n",
    "from nltk.tokenize import word_tokenize\n",
    "from nltk.util import ngrams\n",
    "from collections import Counter"
   ]
  },
  {
   "cell_type": "code",
   "execution_count": 20,
   "metadata": {},
   "outputs": [],
   "source": [
    "def readFile(url):\n",
    "    download = requests.get(url).content\n",
    "    # Reading the downloaded content and turning it into a pandas dataframe\n",
    "    df = pd.read_csv(io.StringIO(download.decode('utf-8')))\n",
    "    return df"
   ]
  },
  {
   "cell_type": "code",
   "execution_count": 21,
   "metadata": {},
   "outputs": [
    {
     "name": "stdout",
     "output_type": "stream",
     "text": [
      " San Francisco 49ers Wallpaper San Francisco 49ers Wallpaper San Francisco 49ers Glory Years Former San Francisco 49ers Great & Hall of Fame QB; Joe Montana Nick Bosa of the San Francisco 49ers stands on the field during their... nan 49ers players react to Christian McCaffrey's dominant performance vs. Rams San Francisco 49ers 49ers TE George Kittle felt \"great\" after big performance No Huddle Podcast: Milestone episode previews 49ers-Vikings playoff game Olivia Culpo wears black for boyfriend Christian McCafferty 49ers win San Francisco 49ers Frappuccino San Francisco 49ers Joe Montana. Probablemente el mas grande y exitoso mariscal de todas las epocas San Francisco 49ers cheerleader SI's 100 Best Super Bowl Photos San Francisco 49ers Glory Years covers | SI.com Nick Bosa of the San Francisco 49ers reacts after a fumble during the... #LL @lufelive  #football #NFL Joe Montana, San Francisco 49ers Patrick Willis, San Francisco 49ers 2023 San Francisco 49ers wallpaper – Pro Sports Backgrounds San Francisco To-Do List\n"
     ]
    }
   ],
   "source": [
    "# Example 5\n",
    "#I am creating a dictionary here titled inputdata\n",
    "inputdata={}\n",
    "#I am assigning the content of the csv file to my dictionary\n",
    "#header is my row in the csv file that is why header is 0 below\n",
    "inputdata = readFile(\"https://raw.githubusercontent.com/wolfesamk/MSBA-212/main/Files/example2results.csv\").to_dict()\n",
    "\n",
    "#We can use type to check the data type of a variable\n",
    "#print(type(inputdata))\n",
    "\n",
    "#I am using the column headers from the csv file to find the data I am interested to analyze\n",
    "\n",
    "# I created a new dictionary here for the description column in my csv file\n",
    "descriptiondictionary = inputdata.get('description')\n",
    "#print(type(descriptiondictionary))\n",
    "\n",
    "# I am converting the dictionary to a list so I can analyze the data\n",
    "descriptionlist =  list(descriptiondictionary.values())\n",
    "#print(type(descriptionlist))\n",
    "\n",
    "#convert list to string\n",
    "#I need the data in string format for analysis purposes\n",
    "descriptioninstring = ''\n",
    "for eachletter in  descriptionlist:\n",
    "    descriptioninstring += ' '+ str(eachletter)\n",
    "\n",
    "print(descriptioninstring)\n",
    "#print(type(descriptioninstring))\n"
   ]
  },
  {
   "cell_type": "code",
   "execution_count": 23,
   "metadata": {},
   "outputs": [
    {
     "name": "stderr",
     "output_type": "stream",
     "text": [
      "[nltk_data] Downloading package stopwords to\n",
      "[nltk_data]     E:\\Aliit\\School\\MSBA\\212\\NLTK...\n",
      "[nltk_data]   Package stopwords is already up-to-date!\n"
     ]
    },
    {
     "name": "stdout",
     "output_type": "stream",
     "text": [
      "[(('49ers',), 17), (('san',), 15), (('francisco',), 15)]\n",
      "[(('san', 'francisco'), 15), (('francisco', '49ers'), 14), (('49ers', 'wallpaper'), 3)]\n",
      "[(('san', 'francisco', '49ers'), 14), (('francisco', '49ers', 'wallpaper'), 3), (('49ers', 'wallpaper', 'san'), 2)]\n"
     ]
    }
   ],
   "source": [
    "# Example 6\n",
    "#Access to the string from the previous file and make the string lower case\n",
    "lowercasedescriptions=descriptioninstring.lower()\n",
    "#print(lowercasedescriptions)\n",
    "\n",
    "#remove the url from text to prevent a future error\n",
    "lowercasedescriptions= re.sub(r'\\w+:\\/{2}[\\d\\w-]+(\\.[\\d\\w-]+)*(?:(?:\\/[^\\s/]*))*', '', lowercasedescriptions)\n",
    "#print(lowercasedescriptions)\n",
    "\n",
    "#remove the stop or common words from the string\n",
    "nltk.download('stopwords')\n",
    "#print(stopwords.words('english'))\n",
    "\n",
    "description_tokens = word_tokenize(lowercasedescriptions)\n",
    "\n",
    "description_tokens_without_stopwords = [word for word in description_tokens if not word in stopwords.words()]\n",
    "\n",
    "#print(description_tokens_without_stopwords )\n",
    "\n",
    "unigrams = ngrams(description_tokens_without_stopwords, 1)\n",
    "bigrams = ngrams(description_tokens_without_stopwords,2)\n",
    "trigrams = ngrams(description_tokens_without_stopwords,3)\n",
    "\n",
    "#print (Counter(unigrams))\n",
    "#print (Counter(bigrams))\n",
    "#print (Counter(trigrams))\n",
    "\n",
    "mostcommonunigrams = Counter(unigrams)\n",
    "#This will print top 3 unigrams\n",
    "print(mostcommonunigrams.most_common(3))\n",
    "\n",
    "mostcommonbigrams = Counter(bigrams)\n",
    "print(mostcommonbigrams.most_common(3))\n",
    "\n",
    "mostcommontrigrams = Counter(trigrams)\n",
    "print(mostcommontrigrams.most_common(3))\n"
   ]
  },
  {
   "cell_type": "code",
   "execution_count": 26,
   "metadata": {},
   "outputs": [
    {
     "ename": "AttributeError",
     "evalue": "'NoneType' object has no attribute 'values'",
     "output_type": "error",
     "traceback": [
      "\u001b[1;31m---------------------------------------------------------------------------\u001b[0m",
      "\u001b[1;31mAttributeError\u001b[0m                            Traceback (most recent call last)",
      "\u001b[1;32me:\\Aliit\\School\\MSBA\\212\\Git\\MSBA-212\\Classwork\\Week 3.ipynb Cell 5\u001b[0m line \u001b[0;36m1\n\u001b[0;32m     <a href='vscode-notebook-cell:/e%3A/Aliit/School/MSBA/212/Git/MSBA-212/Classwork/Week%203.ipynb#X10sZmlsZQ%3D%3D?line=14'>15</a>\u001b[0m descriptiondictionary \u001b[39m=\u001b[39m inputdata\u001b[39m.\u001b[39mget(\u001b[39m'\u001b[39m\u001b[39mdescription\u001b[39m\u001b[39m'\u001b[39m)\n\u001b[0;32m     <a href='vscode-notebook-cell:/e%3A/Aliit/School/MSBA/212/Git/MSBA-212/Classwork/Week%203.ipynb#X10sZmlsZQ%3D%3D?line=17'>18</a>\u001b[0m \u001b[39m# I am converting the dictionary to a list so I can analyze the data\u001b[39;00m\n\u001b[1;32m---> <a href='vscode-notebook-cell:/e%3A/Aliit/School/MSBA/212/Git/MSBA-212/Classwork/Week%203.ipynb#X10sZmlsZQ%3D%3D?line=18'>19</a>\u001b[0m titlelist \u001b[39m=\u001b[39m \u001b[39mlist\u001b[39m(titledictionary\u001b[39m.\u001b[39;49mvalues())\n\u001b[0;32m     <a href='vscode-notebook-cell:/e%3A/Aliit/School/MSBA/212/Git/MSBA-212/Classwork/Week%203.ipynb#X10sZmlsZQ%3D%3D?line=19'>20</a>\u001b[0m descriptionlist \u001b[39m=\u001b[39m  \u001b[39mlist\u001b[39m(descriptiondictionary\u001b[39m.\u001b[39mvalues())\n\u001b[0;32m     <a href='vscode-notebook-cell:/e%3A/Aliit/School/MSBA/212/Git/MSBA-212/Classwork/Week%203.ipynb#X10sZmlsZQ%3D%3D?line=22'>23</a>\u001b[0m \u001b[39m#convert list to string\u001b[39;00m\n\u001b[0;32m     <a href='vscode-notebook-cell:/e%3A/Aliit/School/MSBA/212/Git/MSBA-212/Classwork/Week%203.ipynb#X10sZmlsZQ%3D%3D?line=23'>24</a>\u001b[0m \u001b[39m#I need the data in string format for analysis purposes\u001b[39;00m\n",
      "\u001b[1;31mAttributeError\u001b[0m: 'NoneType' object has no attribute 'values'"
     ]
    }
   ],
   "source": [
    "# Example 7\n",
    "#I am creating a dictionary here titled inputdata\n",
    "inputdata={}\n",
    "#I am assigning the content of the csv file to my dictionary\n",
    "#header is my row in the csv file that is why header is 0 below\n",
    "inputdata = readFile(\"https://raw.githubusercontent.com/wolfesamk/MSBA-212/main/Files/example2results.csv\").to_dict()\n",
    "\n",
    "#We can use type to check the data type of a variable\n",
    "#print(type(inputdata))\n",
    "\n",
    "#I am using the column headers from the csv file to find the data I am interested to analyze\n",
    "\n",
    "# I created a new dictionary here for the description column in my csv file\n",
    "titledictionary = inputdata.get('title')\n",
    "descriptiondictionary = inputdata.get('description')\n",
    "\n",
    "\n",
    "# I am converting the dictionary to a list so I can analyze the data\n",
    "titlelist = list(titledictionary.values())\n",
    "descriptionlist =  list(descriptiondictionary.values())\n",
    "\n",
    "\n",
    "#convert list to string\n",
    "#I need the data in string format for analysis purposes\n",
    "titleinstring = ''\n",
    "for eachtitleletter in  titlelist:\n",
    "    titleinstring += ' '+ eachtitleletter\n",
    "\n",
    "descriptioninstring = ''\n",
    "for eachdescriptionletter in  descriptionlist:\n",
    "    descriptioninstring += ' '+ eachdescriptionletter\n",
    "\n",
    "import nltk\n",
    "from nltk.corpus import stopwords\n",
    "from nltk.tokenize import word_tokenize\n",
    "from nltk.util import ngrams\n",
    "from collections import Counter\n",
    "import re\n",
    "\n",
    "\n",
    "#Access to the string from the previous file and make the string lower case\n",
    "lowercasedescriptions=descriptioninstring.lower()\n",
    "lowercasetitles=titleinstring.lower()\n",
    "\n",
    "#remove the url from text to prevent a future error\n",
    "lowercasedescriptions= re.sub(r'\\w+:\\/{2}[\\d\\w-]+(\\.[\\d\\w-]+)*(?:(?:\\/[^\\s/]*))*', '', lowercasedescriptions)\n",
    "lowercasetitles= re.sub(r'\\w+:\\/{2}[\\d\\w-]+(\\.[\\d\\w-]+)*(?:(?:\\/[^\\s/]*))*', '', lowercasetitles)\n",
    "#print(lowercasedescriptions)\n",
    "\n",
    "#remove the stop or common words from the string\n",
    "nltk.download('stopwords')\n",
    "#print(stopwords.words('english'))\n",
    "\n",
    "description_tokens = word_tokenize(lowercasedescriptions)\n",
    "title_tokens = word_tokenize(lowercasetitles)\n",
    "\n",
    "description_tokens_without_stopwords = [word for word in description_tokens if not word in stopwords.words()]\n",
    "\n",
    "title_tokens_without_stopwords = [word for word in title_tokens if not word in stopwords.words()]\n",
    "\n",
    "#print(description_tokens_without_stopwords )\n",
    "\n",
    "descriptionunigrams = ngrams(description_tokens_without_stopwords, 1)\n",
    "descriptionbigrams = ngrams(description_tokens_without_stopwords,2)\n",
    "descriptiontrigrams = ngrams(description_tokens_without_stopwords,3)\n",
    "\n",
    "titleunigrams = ngrams(title_tokens_without_stopwords, 1)\n",
    "titlebigrams = ngrams(title_tokens_without_stopwords,2)\n",
    "titletrigrams = ngrams(title_tokens_without_stopwords,3)\n",
    "\n",
    "#print (Counter(unigrams))\n",
    "#print (Counter(bigrams))\n",
    "#print (Counter(trigrams))\n",
    "\n",
    "mostcommondescriptionunigrams = Counter(descriptionunigrams)\n",
    "mostcommontitleunigrams = Counter(titleunigrams)\n",
    "#This will print top 3 unigrams\n",
    "print(\"Most Common Description Unigrams:\", mostcommondescriptionunigrams.most_common(3))\n",
    "print(\"Most Common Title Unigrams:\",mostcommontitleunigrams.most_common(3))\n",
    "\n",
    "mostcommondescriptionbigrams = Counter(descriptionbigrams)\n",
    "mostcommontitlebigrams = Counter(titlebigrams)\n",
    "print(\"Most Common Description Bigrams:\",mostcommondescriptionbigrams.most_common(3))\n",
    "print(\"Most Common Title Biigrams:\",mostcommontitlebigrams.most_common(3))\n",
    "\n",
    "mostcommondescriptiontrigrams = Counter(descriptiontrigrams)\n",
    "mostcommontitletrigrams = Counter(titletrigrams)\n",
    "print(\"Most Common Description Trigrams:\",mostcommondescriptiontrigrams.most_common(3))\n",
    "print(\"Most Common Title Trigrams:\",mostcommontitletrigrams.most_common(3))\n"
   ]
  }
 ],
 "metadata": {
  "kernelspec": {
   "display_name": "Python 3",
   "language": "python",
   "name": "python3"
  },
  "language_info": {
   "codemirror_mode": {
    "name": "ipython",
    "version": 3
   },
   "file_extension": ".py",
   "mimetype": "text/x-python",
   "name": "python",
   "nbconvert_exporter": "python",
   "pygments_lexer": "ipython3",
   "version": "3.11.4"
  },
  "orig_nbformat": 4
 },
 "nbformat": 4,
 "nbformat_minor": 2
}
