{
 "cells": [
  {
   "cell_type": "code",
   "execution_count": 2,
   "metadata": {},
   "outputs": [
    {
     "name": "stdout",
     "output_type": "stream",
     "text": [
      "Package                   Version  Latest       Type\n",
      "------------------------- -------- ------------ -----\n",
      "argon2-cffi               21.3.0   23.1.0       wheel\n",
      "asttokens                 2.2.1    2.4.0        wheel\n",
      "certifi                   2023.5.7 2023.7.22    wheel\n",
      "click                     8.1.4    8.1.7        wheel\n",
      "comm                      0.1.3    0.1.4        wheel\n",
      "debugpy                   1.6.7    1.6.7.post1  wheel\n",
      "fastjsonschema            2.17.1   2.18.0       wheel\n",
      "fonttools                 4.41.0   4.42.1       wheel\n",
      "ipykernel                 6.24.0   6.25.2       wheel\n",
      "ipython                   8.14.0   8.15.0       wheel\n",
      "ipywidgets                8.0.7    8.1.0        wheel\n",
      "jedi                      0.18.2   0.19.0       wheel\n",
      "joblib                    1.3.1    1.3.2        wheel\n",
      "jsonschema                4.18.2   4.19.0       wheel\n",
      "jsonschema-specifications 2023.6.1 2023.7.1     wheel\n",
      "jupyter_client            8.3.0    8.3.1        wheel\n",
      "jupyter-events            0.6.3    0.7.0        wheel\n",
      "jupyter_server            2.7.0    2.7.3        wheel\n",
      "kiwisolver                1.4.4    1.4.5        wheel\n",
      "nbconvert                 7.6.0    7.8.0        wheel\n",
      "nbformat                  5.9.1    5.9.2        wheel\n",
      "nest-asyncio              1.5.6    1.5.7        wheel\n",
      "notebook                  6.5.4    7.0.3        wheel\n",
      "numpy                     1.25.1   1.25.2       wheel\n",
      "overrides                 7.3.1    7.4.0        wheel\n",
      "pandas                    2.0.3    2.1.0        wheel\n",
      "Pygments                  2.15.1   2.16.1       wheel\n",
      "pyparsing                 3.0.9    3.1.1        wheel\n",
      "pytz                      2023.3   2023.3.post1 wheel\n",
      "pywinpty                  2.0.10   2.0.11       wheel\n",
      "PyYAML                    6.0      6.0.1        wheel\n",
      "pyzmq                     25.1.0   25.1.1       wheel\n",
      "qtconsole                 5.4.3    5.4.4        wheel\n",
      "QtPy                      2.3.1    2.4.0        wheel\n",
      "referencing               0.29.1   0.30.2       wheel\n",
      "regex                     2023.6.3 2023.8.8     wheel\n",
      "rpds-py                   0.8.10   0.10.2       wheel\n",
      "scipy                     1.11.1   1.11.2       wheel\n",
      "setuptools                68.0.0   68.2.0       wheel\n",
      "soupsieve                 2.4.1    2.5          wheel\n",
      "threadpoolctl             3.1.0    3.2.0        wheel\n",
      "tornado                   6.3.2    6.3.3        wheel\n",
      "tqdm                      4.65.0   4.66.1       wheel\n",
      "urllib3                   2.0.3    2.0.4        wheel\n",
      "websocket-client          1.6.1    1.6.2        wheel\n",
      "Note: you may need to restart the kernel to use updated packages.\n"
     ]
    }
   ],
   "source": [
    "pip list -o"
   ]
  },
  {
   "cell_type": "code",
   "execution_count": 14,
   "metadata": {},
   "outputs": [
    {
     "name": "stdout",
     "output_type": "stream",
     "text": [
      "Requirement already satisfied: anyio in c:\\users\\sam\\appdata\\local\\programs\\python\\python311\\lib\\site-packages (3.7.1)\n",
      "Collecting anyio\n",
      "  Obtaining dependency information for anyio from https://files.pythonhosted.org/packages/36/55/ad4de788d84a630656ece71059665e01ca793c04294c463fd84132f40fe6/anyio-4.0.0-py3-none-any.whl.metadata\n",
      "  Downloading anyio-4.0.0-py3-none-any.whl.metadata (4.5 kB)\n",
      "Requirement already satisfied: idna>=2.8 in c:\\users\\sam\\appdata\\local\\programs\\python\\python311\\lib\\site-packages (from anyio) (3.4)\n",
      "Requirement already satisfied: sniffio>=1.1 in c:\\users\\sam\\appdata\\local\\programs\\python\\python311\\lib\\site-packages (from anyio) (1.3.0)\n",
      "Downloading anyio-4.0.0-py3-none-any.whl (83 kB)\n",
      "   ---------------------------------------- 0.0/83.1 kB ? eta -:--:--\n",
      "   ---------------------------------------- 83.1/83.1 kB 2.4 MB/s eta 0:00:00\n",
      "Installing collected packages: anyio\n",
      "  Attempting uninstall: anyio\n",
      "    Found existing installation: anyio 3.7.1\n",
      "    Uninstalling anyio-3.7.1:\n",
      "      Successfully uninstalled anyio-3.7.1\n",
      "Successfully installed anyio-4.0.0\n",
      "Note: you may need to restart the kernel to use updated packages.\n"
     ]
    }
   ],
   "source": [
    "pip install --upgrade anyio"
   ]
  }
 ],
 "metadata": {
  "kernelspec": {
   "display_name": "Python 3",
   "language": "python",
   "name": "python3"
  },
  "language_info": {
   "codemirror_mode": {
    "name": "ipython",
    "version": 3
   },
   "file_extension": ".py",
   "mimetype": "text/x-python",
   "name": "python",
   "nbconvert_exporter": "python",
   "pygments_lexer": "ipython3",
   "version": "3.11.4"
  },
  "orig_nbformat": 4
 },
 "nbformat": 4,
 "nbformat_minor": 2
}
